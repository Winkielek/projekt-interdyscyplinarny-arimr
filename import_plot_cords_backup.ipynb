{
 "cells": [
  {
   "cell_type": "code",
   "execution_count": 16,
   "metadata": {},
   "outputs": [],
   "source": [
    "import requests\n",
    "\n",
    "# A BTW WOLNE STRASZNIE DA SIĘ TO JAKOŚ PRZYŚPIESZYĆ UŻYWJAĆ SESIJ ALE TO TODO \n",
    "\n",
    "\n",
    "def cord_reader(plot_ids_list):\n",
    "    \n",
    "    # Taking list contaings plots ID as strings \n",
    "    # example [\"260101_5.0037.569\"]\n",
    "    \n",
    "    # Return dictionary with plots ID as key and \n",
    "    # cords of plot as value \n",
    "    \n",
    "    #data check \n",
    "   \n",
    "    if( not isinstance(plot_ids_list,list)): \n",
    "        raise Exception(\"List object is required\")\n",
    "    if( not isinstance(plot_ids_list[0],str)):\n",
    "        raise Exception(\"List didnt contains only strings\")\n",
    "        \n",
    "    list_of_cords= [\"empty\"]*len(plot_ids_list)\n",
    "    iterator = 0\n",
    "    s = requests.Session()\n",
    "    for i in plot_ids_list:\n",
    "        # ganerated with https://curl.trillworks.com/ \n",
    "        cookies = {\n",
    "    '_ga': 'GA1.2.917990734.1605779206',\n",
    "    'PHPSESSID': '7ktp3a3efd97i23lfi7eng0cr5',\n",
    "    '_gid': 'GA1.2.2124208945.1606661116',\n",
    "    '_gat_gtag_UA_122392520_1': '1',\n",
    "                    }\n",
    "\n",
    "        headers = {\n",
    "    'Connection': 'keep-alive',\n",
    "    'User-Agent': 'Mozilla/5.0 (X11; Linux x86_64) AppleWebKit/537.36 (KHTML, like Gecko) Chrome/83.0.4103.61 Safari/537.36',\n",
    "    'Content-type': 'application/x-www-form-urlencoded',\n",
    "    'Accept': '*/*',\n",
    "    'Origin': 'https://polska.e-mapa.net',\n",
    "    'Sec-Fetch-Site': 'same-origin',\n",
    "    'Sec-Fetch-Mode': 'cors',\n",
    "    'Sec-Fetch-Dest': 'empty',\n",
    "    'Referer': 'https://polska.e-mapa.net/',\n",
    "    'Accept-Language': 'pl-PL,pl;q=0.9,en-US;q=0.8,en;q=0.7',\n",
    "                    }\n",
    "\n",
    "        data = {\n",
    "  'action': 'wsporzedne_granic',\n",
    "  'id_dzialki': i,\n",
    "  'srid': '2180'\n",
    "                }\n",
    "\n",
    "        response = s.post('https://polska.e-mapa.net/application/modules/dzus/dzus.php', headers=headers, cookies=cookies, data=data)\n",
    "\n",
    "        out  = response.text\n",
    "        # OUT in form of string \n",
    "        # Spliting and extracting cords \n",
    "        out = out.split(\"'\")\n",
    "        out = out[1:len(out)-1]\n",
    "        final =[]\n",
    "        for i in out:\n",
    "            \n",
    "            if(i>\"-\"):\n",
    "                final.append(i)\n",
    "        \n",
    "        list_of_cords[iterator] = final\n",
    "        iterator = iterator +1\n",
    "        \n",
    "        \n",
    "    \n",
    "    res = dict(zip(plot_ids_list, list_of_cords))\n",
    "        \n",
    "    return res\n",
    "        "
   ]
  },
  {
   "cell_type": "code",
   "execution_count": 17,
   "metadata": {},
   "outputs": [
    {
     "data": {
      "text/plain": [
       "{'260101_5.0037.569': ['297338.7 628399.2',\n",
       "  '297207.7 628699.9',\n",
       "  '297189.3 628690.9',\n",
       "  '297320.3 628390.4',\n",
       "  '297338.7 628399.2'],\n",
       " '040809_2.0024.39/1': ['540993.3 512703.4',\n",
       "  '541271.6 513307.1',\n",
       "  '541319.1 513292.5',\n",
       "  '541360.0 513269.0',\n",
       "  '541233.5 512993.8',\n",
       "  '541157.3 512829.9',\n",
       "  '541092.4 512687.0',\n",
       "  '541010.9 512698.0',\n",
       "  '540993.3 512703.4']}"
      ]
     },
     "execution_count": 17,
     "metadata": {},
     "output_type": "execute_result"
    }
   ],
   "source": [
    "cord_reader([\"260101_5.0037.569\",\"260101_5.0037.569\",'040809_2.0024.39/1'])\n"
   ]
  }
 ],
 "metadata": {
  "kernelspec": {
   "display_name": "Python 3",
   "language": "python",
   "name": "python3"
  },
  "language_info": {
   "codemirror_mode": {
    "name": "ipython",
    "version": 3
   },
   "file_extension": ".py",
   "mimetype": "text/x-python",
   "name": "python",
   "nbconvert_exporter": "python",
   "pygments_lexer": "ipython3",
   "version": "3.7.4"
  }
 },
 "nbformat": 4,
 "nbformat_minor": 4
}
