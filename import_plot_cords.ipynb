{
 "cells": [
  {
   "cell_type": "code",
   "execution_count": 2,
   "metadata": {},
   "outputs": [],
   "source": [
    "import  requests"
   ]
  },
  {
   "cell_type": "code",
   "execution_count": null,
   "metadata": {},
   "outputs": [],
   "source": [
    "260101_5.0037.569"
   ]
  },
  {
   "cell_type": "code",
   "execution_count": 22,
   "metadata": {},
   "outputs": [],
   "source": [
    "import requests\n",
    "\n",
    "cookies = {\n",
    "    '_ga': 'GA1.2.51240744.1603709405',\n",
    "    'PHPSESSID': 'jvrvs8pcpo99d3ebt2n78h1dp5',\n",
    "    '_gid': 'GA1.2.910230034.1604656970',\n",
    "}\n",
    "\n",
    "headers = {\n",
    "    'Connection': 'keep-alive',\n",
    "    'User-Agent': 'Mozilla/5.0 (Windows NT 10.0; Win64; x64) AppleWebKit/537.36 (KHTML, like Gecko) Chrome/86.0.4240.183 Safari/537.36',\n",
    "    'Content-type': 'application/x-www-form-urlencoded',\n",
    "    'Accept': '/',\n",
    "    'Origin': 'https://polska.e-mapa.net/',\n",
    "    'Sec-Fetch-Site': 'same-origin',\n",
    "    'Sec-Fetch-Mode': 'cors',\n",
    "    'Sec-Fetch-Dest': 'empty',\n",
    "    'Referer': 'https://polska.e-mapa.net/',\n",
    "    'Accept-Language': 'pl-PL,pl;q=0.9,en-US;q=0.8,en;q=0.7',\n",
    "}\n",
    "\n",
    "data = [\n",
    "  ('action', 'szukaj'),\n",
    "  ('action', 'select_by_id'),\n",
    "  ('action', 'badaj_dzialke'),\n",
    "  ('action', 'wsporzedne_granic'),\n",
    "  ('teryt', ''),\n",
    "  ('teryt', '260101_5.0037.569'),# INSERT PLOT ID HERE\n",
    "  ('numer', '260101_5.0037.569'),# INSERT PLOT ID HERE\n",
    "  ('arkusz', ''),\n",
    "  ('srid', '2180'),\n",
    "  ('srid', '2180'),\n",
    "  ('id', 'sys.dzialka.260101_5.0037.569'),# INSERT PLOT ID HERE\n",
    "  ('color', '220 170 0'),\n",
    "  ('id_dzialki', '260101_5.0037.569'),# INSERT PLOT ID HERE\n",
    "]\n",
    "\n",
    "response = requests.post('https://polska.e-mapa.net/application/modules/dzus/dzus.php', headers=headers, cookies=cookies, data=data)"
   ]
  },
  {
   "cell_type": "code",
   "execution_count": 23,
   "metadata": {},
   "outputs": [
    {
     "name": "stdout",
     "output_type": "stream",
     "text": [
      "{\"lista\":['297338.7 628399.2','297207.7 628699.9','297189.3 628690.9','297320.3 628390.4','297338.7 628399.2']}\n"
     ]
    }
   ],
   "source": [
    "# LIST WITH CORD IN PUGW 1992 Format\n",
    "print(response.text)"
   ]
  }
 ],
 "metadata": {
  "kernelspec": {
   "display_name": "Python 3",
   "language": "python",
   "name": "python3"
  },
  "language_info": {
   "codemirror_mode": {
    "name": "ipython",
    "version": 3
   },
   "file_extension": ".py",
   "mimetype": "text/x-python",
   "name": "python",
   "nbconvert_exporter": "python",
   "pygments_lexer": "ipython3",
   "version": "3.7.6"
  }
 },
 "nbformat": 4,
 "nbformat_minor": 4
}
