{
 "cells": [
  {
   "cell_type": "code",
   "execution_count": 3,
   "metadata": {},
   "outputs": [],
   "source": [
    "#linux\n",
    "#terminal\n",
    "#conda install gdal"
   ]
  },
  {
   "cell_type": "code",
   "execution_count": 14,
   "metadata": {},
   "outputs": [],
   "source": [
    "#import required libraries\n",
    "import rasterio\n",
    "from rasterio import plot\n",
    "import matplotlib.pyplot as plt\n",
    "from osgeo import gdal\n",
    "import xml.etree.ElementTree as ET"
   ]
  },
  {
   "cell_type": "code",
   "execution_count": 117,
   "metadata": {},
   "outputs": [],
   "source": [
    "def cut_plot(photo_dir_path, output_path, xmin, ymin, xmax, ymax):\n",
    "    \"\"\"\n",
    "    photo_dir_path: sciezka do katalogu surowa_paczka.SAFE\n",
    "    output_path: sciezka pliku wycietego zdjecia np.: zdjecie.png\n",
    "    xmin, ymin, xmax, ymax: wspolrzedne prostokata do wyciecia\n",
    "    \"\"\"\n",
    "    \n",
    "    target_dir = os.listdir(photo_dir_path + \"/GRANULE/\")[0]\n",
    "    \n",
    "    #XML part\n",
    "    root = ET.parse(photo_dir_path + \"/GRANULE/\" + target_dir + \"/MTD_TL.xml\").getroot()\n",
    "    epsg_info = list(list(root)[1])[0].find(\"HORIZONTAL_CS_CODE\").text[5:]\n",
    "    \n",
    "    \n",
    "    photos_paths = os.listdir(photo_dir_path + \"/GRANULE/\" + target_dir + \"/IMG_DATA/R10m\")\n",
    "    for f in photos_paths:\n",
    "        if(f.find(\"TCI\") != -1):\n",
    "            photo_path = photo_dir_path + \"/GRANULE/\" + target_dir + \"/IMG_DATA/R10m/\" + f\n",
    "            break\n",
    "    \n",
    "    #JP2 to TIFF\n",
    "    gdal.Translate(\"temp_tiff.tiff\", photo_path)\n",
    "    \n",
    "    #Wycinanie opcje\n",
    "    opt = gdal.WarpOptions(srcSRS = 'epsg:'+epsg_info, dstSRS = 'epsg:4326', \n",
    "                       outputBounds = (xmin, ymin, xmax, ymax), format = \"Gtiff\")\n",
    "    \n",
    "    #Wycinanie\n",
    "    res = gdal.Warp('usunac.tiff', 'temp_tiff.tiff', options = opt)\n",
    "    \n",
    "    #Wyciete do png\n",
    "    gdal.Translate(output_path, res)\n",
    "    \n",
    "    #Usuwanie temp_tiff\n",
    "    os.remove(\"temp_tiff.tiff\")\n",
    "    os.remove(\"usunac.tiff\")\n",
    "    os.remove(output_path + \".aux.xml\")\n",
    "    \n",
    "    del res\n",
    "    \n",
    "    return"
   ]
  },
  {
   "cell_type": "code",
   "execution_count": 118,
   "metadata": {},
   "outputs": [],
   "source": [
    "cut_plot(\"S2B_MSIL2A_20200527T095029_N0214_R079_T34UDC_20200527T123117.SAFE\", \n",
    "        \"nareszcie.png\",\n",
    "        20.18396806301617, 51.8500806996221,20.18664160370571,51.85258457896293)"
   ]
  }
 ],
 "metadata": {
  "kernelspec": {
   "display_name": "Python 3",
   "language": "python",
   "name": "python3"
  },
  "language_info": {
   "codemirror_mode": {
    "name": "ipython",
    "version": 3
   },
   "file_extension": ".py",
   "mimetype": "text/x-python",
   "name": "python",
   "nbconvert_exporter": "python",
   "pygments_lexer": "ipython3",
   "version": "3.7.4"
  }
 },
 "nbformat": 4,
 "nbformat_minor": 2
}
